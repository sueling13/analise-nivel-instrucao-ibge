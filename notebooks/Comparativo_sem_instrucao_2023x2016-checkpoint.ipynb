{
 "cells": [
  {
   "cell_type": "markdown",
   "id": "564a2eed-af58-4413-bbc3-22dc93a9ed4e",
   "metadata": {},
   "source": [
    "# 📊 Comparativo de Pessoas Sem Instrução - 2016 vs 2023\n",
    "\n",
    "Este notebook tem como objetivo analisar os dados do IBGE referentes ao percentual de pessoas **sem instrução** no Brasil, comparando os anos de **2016** e **2023**. A análise é feita por estado, considerando todas as regiões do país."
   ]
  },
  {
   "cell_type": "markdown",
   "id": "706a2b7c-09e8-4380-b9e6-1af764fe0ac6",
   "metadata": {},
   "source": [
    "## 🧾 1. Carregando os Dados"
   ]
  },
  {
   "cell_type": "code",
   "execution_count": null,
   "id": "72ae2113-9f44-4e50-bbf5-5182f6d22cae",
   "metadata": {},
   "outputs": [],
   "source": [
    "import pandas as pd\n",
    "from pandas import read_excel\n",
    "import matplotlib.pyplot as plt\n",
    "import seaborn as sns\n",
    "\n",
    "# Lendo a planilha e e pulando o cabeçalho\n",
    "df_2016 = pd.read_excel(\"nivel_instrucao.xls\", sheet_name=\"2016\",skiprows=3)\n",
    "df_2023 = pd.read_excel(\"nivel_instrucao.xls\", sheet_name=\"2023\", skiprows=3)\n",
    "\n",
    "# Removendo espaços extras\n",
    "df_2016.columns = df_2016.columns.str.strip()\n",
    "df_2023.columns = df_2023.columns.str.strip()\n",
    "\n",
    "# Renomeando a coluna de regiões\n",
    "df_2016 = df_2016.rename(columns={\"Unnamed: 0\": \"Regiao_UF\"})\n",
    "df_2023 = df_2023.rename(columns={\"Unnamed: 0\": \"Regiao_UF\"})\n",
    "\n",
    "#Renomeia a coluna \"Sem instrução\" para incluir o ano (evita conflitos ao juntar os dados)\n",
    "df_2016 = df_2016.rename(columns={\"Sem instrução\": \"Sem_instrucao_2016\"})\n",
    "df_2023 = df_2023.rename(columns={\"Sem instrução\": \"Sem_instrucao_2023\"})\n",
    "\n",
    "# Remover linhas com dados invalidos\n",
    "df_2016 = df_2016[df_2016[\"Regiao_UF\"].notna()]\n",
    "df_2023 = df_2023[df_2023[\"Regiao_UF\"].notna()]"
   ]
  },
  {
   "cell_type": "markdown",
   "id": "628a86ed-ca16-4459-aefb-6de905f761e6",
   "metadata": {},
   "source": [
    "## 🔄 2. Comparando os Dados de 2016 e 2023"
   ]
  },
  {
   "cell_type": "code",
   "execution_count": null,
   "id": "7757348d-ad18-4c9f-96fb-31a9a0687d42",
   "metadata": {},
   "outputs": [],
   "source": [
    "# Juntar os dois DataFrame pelas regiões\n",
    "comparacao = pd.merge(df_2016 [[\"Regiao_UF\", \"Sem_instrucao_2016\"]], df_2023 [[\"Regiao_UF\", \"Sem_instrucao_2023\"]], on=\"Regiao_UF\")\n",
    "print(comparacao.head(10))\n",
    "\n",
    "# Calcular a diferença de percentual\n",
    "comparacao[\"Diferenca_percentual\"] = (\n",
    "    (comparacao[\"Sem_instrucao_2023\"] - comparacao[\"Sem_instrucao_2016\"]) / comparacao[\"Sem_instrucao_2016\"]\n",
    ") * 100"
   ]
  },
  {
   "cell_type": "markdown",
   "id": "288da43a-5d50-4f5c-b6f6-46b46544fe81",
   "metadata": {},
   "source": [
    "## 📈 3. Visualização da Diferença Percentual (2016 vs 2023)"
   ]
  },
  {
   "cell_type": "code",
   "execution_count": null,
   "id": "3499029a-ee78-4f1c-84e6-d3d90d3adf13",
   "metadata": {},
   "outputs": [],
   "source": [
    "# Ordena para facilitar a visualização\n",
    "comparacao = comparacao.sort_values(by=\"Diferenca_percentual\")\n",
    "\n",
    "#Exibe os dados\n",
    "print(comparacao[[\"Regiao_UF\", \"Diferenca_percentual\"]])\n",
    "\n",
    "# 9. Cria gráfico\n",
    "plt.figure(figsize=(12, 8))\n",
    "sns.barplot(\n",
    "    data=comparacao,\n",
    "    x=\"Diferenca_percentual\",\n",
    "    y=\"Regiao_UF\",\n",
    "    hue=\"Regiao_UF\",\n",
    "    palette=\"coolwarm\",\n",
    "    dodge=False,\n",
    "    legend=False\n",
    ")\n",
    "plt.title(\"Variação percentual de pessoas sem instrução (2023 vs 2016)\")\n",
    "plt.xlabel(\"Diferença percentual (%)\")\n",
    "plt.ylabel(\"Estado\")\n",
    "plt.axvline(x=0, color='gray', linestyle='--', linewidth=1)\n",
    "plt.tight_layout()\n",
    "plt.savefig(\"sem_instrucao_diferenca_percentual.png\")\n",
    "plt.show()"
   ]
  },
  {
   "cell_type": "markdown",
   "id": "02119e0c-40de-466c-945b-7e1754fb9326",
   "metadata": {},
   "source": [
    "## 📌 Observações\n",
    "\n",
    "- O estado do **Amapá** apresentou um aumento no percentual de pessoas sem instrução entre 2016 e 2023, mesmo sendo destaque em **ensino superior completo**.\n",
    "- Estados como **Tocantins** e **Roraima** apresentaram reduções consideráveis.\n",
    "- O Brasil como um todo também mostrou uma **melhoria geral**, reduzindo o percentual de pessoas sem instrução."
   ]
  },
  {
   "cell_type": "markdown",
   "id": "958e654e-bee7-4f72-a83c-9e3f62454cf4",
   "metadata": {},
   "source": [
    "## ✅ Conclusão\n",
    "\n",
    "Esta análise traz uma visão clara sobre os avanços e retrocessos na educação básica ao longo de 7 anos, e pode servir como base para estudos mais aprofundados sobre políticas públicas e desigualdade regional."
   ]
  },
  {
   "cell_type": "code",
   "execution_count": null,
   "id": "77a5bc36-ad94-4f04-9ffc-0de454537150",
   "metadata": {},
   "outputs": [],
   "source": []
  }
 ],
 "metadata": {
  "kernelspec": {
   "display_name": "Python 3 (ipykernel)",
   "language": "python",
   "name": "python3"
  },
  "language_info": {
   "codemirror_mode": {
    "name": "ipython",
    "version": 3
   },
   "file_extension": ".py",
   "mimetype": "text/x-python",
   "name": "python",
   "nbconvert_exporter": "python",
   "pygments_lexer": "ipython3",
   "version": "3.12.9"
  }
 },
 "nbformat": 4,
 "nbformat_minor": 5
}
